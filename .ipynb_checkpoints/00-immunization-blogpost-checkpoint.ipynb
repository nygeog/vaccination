{
 "metadata": {
  "name": "",
  "signature": "sha256:0026239fee7b3971967b20f22b008f2465f1d7ad1a563834a3a501846bc7d487"
 },
 "nbformat": 3,
 "nbformat_minor": 0,
 "worksheets": [
  {
   "cells": [
    {
     "cell_type": "code",
     "collapsed": false,
     "input": [
      "import pandas as pd\n",
      "\n",
      "inXLS = 'http://www.cdph.ca.gov/programs/immunize/Documents/2014-2015%20CA%20Seventh%20Grade%20Data.xls'\n",
      "inCSV = 'http://spreadsheets.latimes.com/api/immunization-levels-california.csv'\n",
      "\n",
      "# inImmCal = pd.io.excel.read_excel(inXLS, 'SA1415', header=3)\n",
      "inImmCSV = pd.read_csv(inCSV)\n",
      "\n",
      "df = inImmCSV\n",
      "\n",
      "df['rate'] = df['MMR immunization rate']\n",
      "df = df[['County','rate']]\n",
      "df['count'] = 1\n",
      "\n",
      "df = df[(df.rate > 0)]\n",
      "df.to_csv('data/immunization-levels-california.csv')\n",
      "df.head(10)\n",
      "\n",
      "dfg = df.groupby('County').sum()\n",
      "dfg['mmr_county_rate'] = dfg['rate']/dfg['count']\n",
      "\n",
      "dfg.to_csv('data/county-immunization-levels-california.csv')\n",
      "dfg.head(10)"
     ],
     "language": "python",
     "metadata": {},
     "outputs": [
      {
       "html": [
        "<div style=\"max-height:1000px;max-width:1500px;overflow:auto;\">\n",
        "<table border=\"1\" class=\"dataframe\">\n",
        "  <thead>\n",
        "    <tr style=\"text-align: right;\">\n",
        "      <th></th>\n",
        "      <th>rate</th>\n",
        "      <th>count</th>\n",
        "      <th>mmr_county_rate</th>\n",
        "    </tr>\n",
        "    <tr>\n",
        "      <th>County</th>\n",
        "      <th></th>\n",
        "      <th></th>\n",
        "      <th></th>\n",
        "    </tr>\n",
        "  </thead>\n",
        "  <tbody>\n",
        "    <tr>\n",
        "      <th>ALAMEDA</th>\n",
        "      <td> 260.377311</td>\n",
        "      <td> 286</td>\n",
        "      <td> 0.910410</td>\n",
        "    </tr>\n",
        "    <tr>\n",
        "      <th>AMADOR</th>\n",
        "      <td>   5.673281</td>\n",
        "      <td>   6</td>\n",
        "      <td> 0.945547</td>\n",
        "    </tr>\n",
        "    <tr>\n",
        "      <th>BUTTE</th>\n",
        "      <td>  41.150967</td>\n",
        "      <td>  48</td>\n",
        "      <td> 0.857312</td>\n",
        "    </tr>\n",
        "    <tr>\n",
        "      <th>CALAVERAS</th>\n",
        "      <td>   7.160273</td>\n",
        "      <td>   9</td>\n",
        "      <td> 0.795586</td>\n",
        "    </tr>\n",
        "    <tr>\n",
        "      <th>COLUSA</th>\n",
        "      <td>   3.968764</td>\n",
        "      <td>   4</td>\n",
        "      <td> 0.992191</td>\n",
        "    </tr>\n",
        "    <tr>\n",
        "      <th>CONTRA COSTA</th>\n",
        "      <td> 186.102222</td>\n",
        "      <td> 197</td>\n",
        "      <td> 0.944681</td>\n",
        "    </tr>\n",
        "    <tr>\n",
        "      <th>DEL NORTE</th>\n",
        "      <td>   6.870083</td>\n",
        "      <td>   8</td>\n",
        "      <td> 0.858760</td>\n",
        "    </tr>\n",
        "    <tr>\n",
        "      <th>EL DORADO</th>\n",
        "      <td>  28.207848</td>\n",
        "      <td>  32</td>\n",
        "      <td> 0.881495</td>\n",
        "    </tr>\n",
        "    <tr>\n",
        "      <th>FRESNO</th>\n",
        "      <td> 201.713354</td>\n",
        "      <td> 210</td>\n",
        "      <td> 0.960540</td>\n",
        "    </tr>\n",
        "    <tr>\n",
        "      <th>GLENN</th>\n",
        "      <td>   4.870261</td>\n",
        "      <td>   5</td>\n",
        "      <td> 0.974052</td>\n",
        "    </tr>\n",
        "  </tbody>\n",
        "</table>\n",
        "</div>"
       ],
       "metadata": {},
       "output_type": "pyout",
       "prompt_number": 1,
       "text": [
        "                    rate  count  mmr_county_rate\n",
        "County                                          \n",
        "ALAMEDA       260.377311    286         0.910410\n",
        "AMADOR          5.673281      6         0.945547\n",
        "BUTTE          41.150967     48         0.857312\n",
        "CALAVERAS       7.160273      9         0.795586\n",
        "COLUSA          3.968764      4         0.992191\n",
        "CONTRA COSTA  186.102222    197         0.944681\n",
        "DEL NORTE       6.870083      8         0.858760\n",
        "EL DORADO      28.207848     32         0.881495\n",
        "FRESNO        201.713354    210         0.960540\n",
        "GLENN           4.870261      5         0.974052"
       ]
      }
     ],
     "prompt_number": 1
    },
    {
     "cell_type": "code",
     "collapsed": false,
     "input": [
      "CalCountySHP = 'http://atlas.ca.gov/casil/boundaries/Boundaries_(project)/CountyBoundaries2009/cnty24k09_1_shp.zip'\n",
      "\n",
      "import urllib\n",
      "\n",
      "zipLoc = \"data/cb_2013_us_state_20m.zip\"\n",
      "fileURL = CalCountySHP\n",
      "urllib.urlretrieve (fileURL, zipLoc)  #get that file\n",
      "\n",
      "import zipfile  \n",
      "  \n",
      "zip = zipfile.ZipFile(zipLoc)  \n",
      "zip.extractall(\"data\") #unzip!\n",
      "\n",
      "# TO DO:\n",
      "#   COPY THE CSV AND NAME joincsv.csv\n",
      "#   COPY THE SHAPE to root dir and name inshape.shp"
     ],
     "language": "python",
     "metadata": {},
     "outputs": [],
     "prompt_number": 45
    },
    {
     "cell_type": "markdown",
     "metadata": {},
     "source": [
      "Join the csv and shapefile:\n",
      "    \n",
      "    ogr2ogr -sql \"select inshape.*, joincsv.* from inshape left join 'joincsv.csv'.joincsv on inshape.NAME_UCASE = joincsv.County\" shape_join.shp inshape.shp\n",
      "\n",
      "from http://gis.stackexchange.com/questions/95746/join-a-csv-file-to-shapefile-using-gdal-ogr\n"
     ]
    },
    {
     "cell_type": "code",
     "collapsed": false,
     "input": [
      "from IPython.display import HTML \n",
      "\n",
      "HTML('<iframe align=left width=50% height=600 frameborder=0 src=http://dms2203.cartodb.com/viz/a65d5b94-d181-11e4-b1c7-0e018d66dc29/embed_map allowfullscreen webkitallowfullscreen mozallowfullscreen oallowfullscreen msallowfullscreen></iframe> <iframe align=right width=50% height=600 frameborder=0 src=http://dms2203.cartodb.com/viz/a65d5b94-d181-11e4-b1c7-0e018d66dc29/embed_map allowfullscreen webkitallowfullscreen mozallowfullscreen oallowfullscreen msallowfullscreen></iframe>')\n",
      "#HTML('<iframe width=50% height=520 frameborder=0 src=https://andye.cartodb.com/viz/e44ac140-b8ad-11e4-b156-0e4fddd5de28/embed_map allowfullscreen webkitallowfullscreen mozallowfullscreen oallowfullscreen msallowfullscreen></iframe>')"
     ],
     "language": "python",
     "metadata": {},
     "outputs": [
      {
       "html": [
        "<iframe align=left width=50% height=600 frameborder=0 src=http://dms2203.cartodb.com/viz/a65d5b94-d181-11e4-b1c7-0e018d66dc29/embed_map allowfullscreen webkitallowfullscreen mozallowfullscreen oallowfullscreen msallowfullscreen></iframe> <iframe align=right width=50% height=600 frameborder=0 src=http://dms2203.cartodb.com/viz/a65d5b94-d181-11e4-b1c7-0e018d66dc29/embed_map allowfullscreen webkitallowfullscreen mozallowfullscreen oallowfullscreen msallowfullscreen></iframe>"
       ],
       "metadata": {},
       "output_type": "pyout",
       "prompt_number": 11,
       "text": [
        "<IPython.core.display.HTML at 0x1064644d0>"
       ]
      }
     ],
     "prompt_number": 11
    },
    {
     "cell_type": "code",
     "collapsed": false,
     "input": [],
     "language": "python",
     "metadata": {},
     "outputs": []
    }
   ],
   "metadata": {}
  }
 ]
}